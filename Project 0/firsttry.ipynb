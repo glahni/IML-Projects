{
 "cells": [
  {
   "cell_type": "code",
   "execution_count": 5,
   "metadata": {},
   "outputs": [],
   "source": [
    "from sklearn.metrics import mean_squared_error\n",
    "import pandas as pd\n",
    "from sklearn.linear_model import LinearRegression\n",
    "from sklearn.model_selection import train_test_split\n",
    "import matplotlib.pyplot as plt\n",
    "import seaborn as sns"
   ]
  },
  {
   "cell_type": "code",
   "execution_count": 10,
   "metadata": {},
   "outputs": [
    {
     "data": {
      "text/html": [
       "<table class=\"simpletable\">\n",
       "<caption>OLS Regression Results</caption>\n",
       "<tr>\n",
       "  <th>Dep. Variable:</th>            <td>y</td>        <th>  R-squared:         </th>  <td>   1.000</td> \n",
       "</tr>\n",
       "<tr>\n",
       "  <th>Model:</th>                   <td>OLS</td>       <th>  Adj. R-squared:    </th>  <td>   1.000</td> \n",
       "</tr>\n",
       "<tr>\n",
       "  <th>Method:</th>             <td>Least Squares</td>  <th>  F-statistic:       </th>  <td>9.749e+32</td>\n",
       "</tr>\n",
       "<tr>\n",
       "  <th>Date:</th>             <td>Sat, 12 Mar 2022</td> <th>  Prob (F-statistic):</th>   <td>  0.00</td>  \n",
       "</tr>\n",
       "<tr>\n",
       "  <th>Time:</th>                 <td>08:54:27</td>     <th>  Log-Likelihood:    </th> <td>2.7369e+05</td>\n",
       "</tr>\n",
       "<tr>\n",
       "  <th>No. Observations:</th>      <td> 10000</td>      <th>  AIC:               </th> <td>-5.474e+05</td>\n",
       "</tr>\n",
       "<tr>\n",
       "  <th>Df Residuals:</th>          <td>  9989</td>      <th>  BIC:               </th> <td>-5.473e+05</td>\n",
       "</tr>\n",
       "<tr>\n",
       "  <th>Df Model:</th>              <td>    10</td>      <th>                     </th>      <td> </td>    \n",
       "</tr>\n",
       "<tr>\n",
       "  <th>Covariance Type:</th>      <td>nonrobust</td>    <th>                     </th>      <td> </td>    \n",
       "</tr>\n",
       "</table>\n",
       "<table class=\"simpletable\">\n",
       "<tr>\n",
       "      <td></td>         <th>coef</th>     <th>std err</th>      <th>t</th>      <th>P>|t|</th>  <th>[0.025</th>    <th>0.975]</th>  \n",
       "</tr>\n",
       "<tr>\n",
       "  <th>Intercept</th> <td> -1.99e-13</td> <td> 3.15e-15</td> <td>  -63.230</td> <td> 0.000</td> <td>-2.05e-13</td> <td>-1.93e-13</td>\n",
       "</tr>\n",
       "<tr>\n",
       "  <th>x1</th>        <td>    0.1000</td> <td> 3.15e-18</td> <td> 3.17e+16</td> <td> 0.000</td> <td>    0.100</td> <td>    0.100</td>\n",
       "</tr>\n",
       "<tr>\n",
       "  <th>x2</th>        <td>    0.1000</td> <td> 3.15e-18</td> <td> 3.18e+16</td> <td> 0.000</td> <td>    0.100</td> <td>    0.100</td>\n",
       "</tr>\n",
       "<tr>\n",
       "  <th>x3</th>        <td>    0.1000</td> <td> 3.14e-18</td> <td> 3.19e+16</td> <td> 0.000</td> <td>    0.100</td> <td>    0.100</td>\n",
       "</tr>\n",
       "<tr>\n",
       "  <th>x4</th>        <td>    0.1000</td> <td> 3.15e-18</td> <td> 3.18e+16</td> <td> 0.000</td> <td>    0.100</td> <td>    0.100</td>\n",
       "</tr>\n",
       "<tr>\n",
       "  <th>x5</th>        <td>    0.1000</td> <td> 3.17e-18</td> <td> 3.15e+16</td> <td> 0.000</td> <td>    0.100</td> <td>    0.100</td>\n",
       "</tr>\n",
       "<tr>\n",
       "  <th>x6</th>        <td>    0.1000</td> <td> 3.16e-18</td> <td> 3.17e+16</td> <td> 0.000</td> <td>    0.100</td> <td>    0.100</td>\n",
       "</tr>\n",
       "<tr>\n",
       "  <th>x7</th>        <td>    0.1000</td> <td> 3.11e-18</td> <td> 3.21e+16</td> <td> 0.000</td> <td>    0.100</td> <td>    0.100</td>\n",
       "</tr>\n",
       "<tr>\n",
       "  <th>x8</th>        <td>    0.1000</td> <td> 3.19e-18</td> <td> 3.14e+16</td> <td> 0.000</td> <td>    0.100</td> <td>    0.100</td>\n",
       "</tr>\n",
       "<tr>\n",
       "  <th>x9</th>        <td>    0.1000</td> <td> 3.17e-18</td> <td> 3.15e+16</td> <td> 0.000</td> <td>    0.100</td> <td>    0.100</td>\n",
       "</tr>\n",
       "<tr>\n",
       "  <th>x10</th>       <td>    0.1000</td> <td> 3.17e-18</td> <td> 3.15e+16</td> <td> 0.000</td> <td>    0.100</td> <td>    0.100</td>\n",
       "</tr>\n",
       "</table>\n",
       "<table class=\"simpletable\">\n",
       "<tr>\n",
       "  <th>Omnibus:</th>       <td> 1.737</td> <th>  Durbin-Watson:     </th> <td>   1.172</td>\n",
       "</tr>\n",
       "<tr>\n",
       "  <th>Prob(Omnibus):</th> <td> 0.420</td> <th>  Jarque-Bera (JB):  </th> <td>   1.721</td>\n",
       "</tr>\n",
       "<tr>\n",
       "  <th>Skew:</th>          <td>-0.007</td> <th>  Prob(JB):          </th> <td>   0.423</td>\n",
       "</tr>\n",
       "<tr>\n",
       "  <th>Kurtosis:</th>      <td> 2.937</td> <th>  Cond. No.          </th> <td>1.02e+03</td>\n",
       "</tr>\n",
       "</table><br/><br/>Notes:<br/>[1] Standard Errors assume that the covariance matrix of the errors is correctly specified.<br/>[2] The condition number is large, 1.02e+03. This might indicate that there are<br/>strong multicollinearity or other numerical problems."
      ],
      "text/plain": [
       "<class 'statsmodels.iolib.summary.Summary'>\n",
       "\"\"\"\n",
       "                            OLS Regression Results                            \n",
       "==============================================================================\n",
       "Dep. Variable:                      y   R-squared:                       1.000\n",
       "Model:                            OLS   Adj. R-squared:                  1.000\n",
       "Method:                 Least Squares   F-statistic:                 9.749e+32\n",
       "Date:                Sat, 12 Mar 2022   Prob (F-statistic):               0.00\n",
       "Time:                        08:54:27   Log-Likelihood:             2.7369e+05\n",
       "No. Observations:               10000   AIC:                        -5.474e+05\n",
       "Df Residuals:                    9989   BIC:                        -5.473e+05\n",
       "Df Model:                          10                                         \n",
       "Covariance Type:            nonrobust                                         \n",
       "==============================================================================\n",
       "                 coef    std err          t      P>|t|      [0.025      0.975]\n",
       "------------------------------------------------------------------------------\n",
       "Intercept   -1.99e-13   3.15e-15    -63.230      0.000   -2.05e-13   -1.93e-13\n",
       "x1             0.1000   3.15e-18   3.17e+16      0.000       0.100       0.100\n",
       "x2             0.1000   3.15e-18   3.18e+16      0.000       0.100       0.100\n",
       "x3             0.1000   3.14e-18   3.19e+16      0.000       0.100       0.100\n",
       "x4             0.1000   3.15e-18   3.18e+16      0.000       0.100       0.100\n",
       "x5             0.1000   3.17e-18   3.15e+16      0.000       0.100       0.100\n",
       "x6             0.1000   3.16e-18   3.17e+16      0.000       0.100       0.100\n",
       "x7             0.1000   3.11e-18   3.21e+16      0.000       0.100       0.100\n",
       "x8             0.1000   3.19e-18   3.14e+16      0.000       0.100       0.100\n",
       "x9             0.1000   3.17e-18   3.15e+16      0.000       0.100       0.100\n",
       "x10            0.1000   3.17e-18   3.15e+16      0.000       0.100       0.100\n",
       "==============================================================================\n",
       "Omnibus:                        1.737   Durbin-Watson:                   1.172\n",
       "Prob(Omnibus):                  0.420   Jarque-Bera (JB):                1.721\n",
       "Skew:                          -0.007   Prob(JB):                        0.423\n",
       "Kurtosis:                       2.937   Cond. No.                     1.02e+03\n",
       "==============================================================================\n",
       "\n",
       "Notes:\n",
       "[1] Standard Errors assume that the covariance matrix of the errors is correctly specified.\n",
       "[2] The condition number is large, 1.02e+03. This might indicate that there are\n",
       "strong multicollinearity or other numerical problems.\n",
       "\"\"\""
      ]
     },
     "execution_count": 10,
     "metadata": {},
     "output_type": "execute_result"
    }
   ],
   "source": [
    "import statsmodels.formula.api as smf\n",
    "from statsmodels.iolib.summary2 import summary_col\n",
    "\n",
    "res = smf.ols(\"y ~ x1+x2+x3+x4+x5+x6+x7+x8+x9+x10\", data=trainset).fit()\n",
    "res.summary()"
   ]
  },
  {
   "cell_type": "code",
   "execution_count": 49,
   "metadata": {},
   "outputs": [],
   "source": [
    "def predict_manual(X):\n",
    "    y = pd.DataFrame()\n",
    "    parameters = [0.1, 0.1, 0.1, 0.1, 0.1, 0.1, 0.1, 0.1, 0.1, 0.1]\n",
    "    intercept = -0.1e-13\n",
    "    y['y'] = intercept + X['x1'] * parameters[0] + X['x2'] * parameters[1] + X['x3'] * parameters[2] + X['x4'] * parameters[3] + X['x5'] * parameters[4] + X['x6'] * parameters[5] + X['x7'] * parameters[6] + X['x8'] * parameters[7] + X['x9'] * parameters[8] + X['x10'] * parameters[9]\n",
    "    #y['Id'] = X['Id']\n",
    "    return y\n"
   ]
  },
  {
   "cell_type": "code",
   "execution_count": 51,
   "metadata": {},
   "outputs": [
    {
     "data": {
      "text/plain": [
       "6.344713564874952e-14"
      ]
     },
     "metadata": {},
     "output_type": "display_data"
    }
   ],
   "source": [
    "y_pred_manual = predict_manual(X_test)\n",
    "RMSE_manual = mean_squared_error(y_test, y_pred_manual)**0.5\n",
    "display(RMSE_manual)"
   ]
  },
  {
   "cell_type": "code",
   "execution_count": null,
   "metadata": {},
   "outputs": [],
   "source": []
  },
  {
   "cell_type": "code",
   "execution_count": 3,
   "metadata": {},
   "outputs": [],
   "source": [
    "trainset = pd.read_csv('train.csv')\n",
    "X = trainset.drop(trainset.columns[[0,1]],axis=1)\n",
    "y = pd.DataFrame(trainset['y'])\n",
    "\n",
    "X_train, X_test, y_train, y_test = train_test_split(X, y, test_size=0.2, random_state=0)"
   ]
  },
  {
   "cell_type": "code",
   "execution_count": 13,
   "metadata": {},
   "outputs": [
    {
     "data": {
      "text/plain": [
       "array([-1.11022302e-15])"
      ]
     },
     "execution_count": 13,
     "metadata": {},
     "output_type": "execute_result"
    }
   ],
   "source": [
    "regr = LinearRegression(fit_intercept=True)\n",
    "regr.fit(X_train, y_train)\n",
    "regr.intercept_"
   ]
  },
  {
   "cell_type": "code",
   "execution_count": 25,
   "metadata": {},
   "outputs": [],
   "source": [
    "y_pred = pd.DataFrame(regr.predict(X_test))\n",
    "\n"
   ]
  },
  {
   "cell_type": "code",
   "execution_count": 26,
   "metadata": {},
   "outputs": [
    {
     "data": {
      "text/plain": [
       "2.6142061016711955e-13"
      ]
     },
     "metadata": {},
     "output_type": "display_data"
    }
   ],
   "source": [
    "RMSE = mean_squared_error(y_test, y_pred)**0.5\n",
    "display(RMSE)"
   ]
  },
  {
   "cell_type": "code",
   "execution_count": null,
   "metadata": {},
   "outputs": [],
   "source": [
    "plt.scatter(y_test, y_pred)"
   ]
  },
  {
   "cell_type": "markdown",
   "metadata": {},
   "source": [
    "# Solve the test"
   ]
  },
  {
   "cell_type": "code",
   "execution_count": 30,
   "metadata": {},
   "outputs": [],
   "source": [
    "X_sol = pd.read_csv('test.csv')\n",
    "y_sol = pd.DataFrame()\n",
    "y_sol['Id'] = X_sol['Id']\n",
    "X_sol = X_sol.drop(labels='Id', axis=1)\n",
    "y_sol['y'] = pd.DataFrame(regr.predict(X_sol))"
   ]
  },
  {
   "cell_type": "code",
   "execution_count": 31,
   "metadata": {},
   "outputs": [],
   "source": [
    "y_sol.to_csv('submission.csv', index=False)"
   ]
  }
 ],
 "metadata": {
  "interpreter": {
   "hash": "831e9d60628f49ef695c1224b896fa86c6f72dc359ca6b6e6521097980c4e285"
  },
  "kernelspec": {
   "display_name": "Python 3.10.1 64-bit",
   "language": "python",
   "name": "python3"
  },
  "language_info": {
   "codemirror_mode": {
    "name": "ipython",
    "version": 3
   },
   "file_extension": ".py",
   "mimetype": "text/x-python",
   "name": "python",
   "nbconvert_exporter": "python",
   "pygments_lexer": "ipython3",
   "version": "3.7.11"
  },
  "orig_nbformat": 4
 },
 "nbformat": 4,
 "nbformat_minor": 2
}
