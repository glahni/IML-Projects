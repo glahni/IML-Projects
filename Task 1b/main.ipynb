{
 "cells": [
  {
   "cell_type": "code",
   "execution_count": 134,
   "metadata": {},
   "outputs": [],
   "source": [
    "# import relevant libraries\n",
    "import numpy as np\n",
    "import pandas as pd\n",
    "import matplotlib.pyplot as plt\n",
    "import seaborn as sns\n",
    "from sklearn.linear_model import Ridge\n",
    "from sklearn.model_selection import train_test_split, KFold, cross_val_score, RepeatedKFold, GridSearchCV\n",
    "from sklearn.metrics import mean_squared_error"
   ]
  },
  {
   "cell_type": "code",
   "execution_count": 135,
   "metadata": {},
   "outputs": [],
   "source": [
    "# load data set\n",
    "df_train = pd.read_csv('train.csv')\n",
    "y = pd.DataFrame(df_train['y'])\n",
    "X = pd.DataFrame(df_train.drop(df_train.columns[[0,1]],axis=1))"
   ]
  },
  {
   "cell_type": "code",
   "execution_count": 136,
   "metadata": {},
   "outputs": [],
   "source": [
    "# feature transformation\n",
    "\n",
    "# quadratic x6-x10\n",
    "X_squared = X**2\n",
    "X_squared.columns=['x6', 'x7','x8', 'x9', 'x10']\n",
    "X_trafo = pd.concat([X, X_squared],axis=1)\n",
    "\n",
    "# exponential x11-x15\n",
    "X_exp = np.exp(X)\n",
    "X_exp.columns=['x11', 'x12','x13', 'x14', 'x15']\n",
    "X_trafo = pd.concat([X_trafo, X_exp],axis=1)\n",
    "\n",
    "# cosine x16-x20\n",
    "X_cos = np.cos(X)\n",
    "X_cos.columns=['x16', 'x17','x18', 'x19', 'x20']\n",
    "X_trafo = pd.concat([X_trafo, X_cos],axis=1)\n",
    "\n",
    "# constant x21\n",
    "X_trafo['x21'] = np.ones_like(700)\n"
   ]
  },
  {
   "cell_type": "code",
   "execution_count": 137,
   "metadata": {},
   "outputs": [
    {
     "name": "stdout",
     "output_type": "stream",
     "text": [
      "MSE: -1.955\n",
      "Config: {'alpha': 1}\n"
     ]
    }
   ],
   "source": [
    "# find optimal alpha for ridge regression (from machinelearningmastery.com)\n",
    "\n",
    "model = Ridge()\n",
    "\n",
    "cv = RepeatedKFold(n_splits=10, n_repeats=3, random_state=1)\n",
    "\n",
    "grid = dict()\n",
    "grid['alpha'] = [0.001, 0.005, 0.01, 0.05, 0.1, 0.25, 0.5, 1, 5, 10, 50, 100, 250, 500, 1000, 2000]\n",
    "\n",
    "search = GridSearchCV(model, grid, scoring='neg_root_mean_squared_error', cv=cv, n_jobs=-1)\n",
    "\n",
    "results = search.fit(X, y)\n",
    "\n",
    "print('MSE: %.3f' % results.best_score_)\n",
    "print('Config: %s' % results.best_params_)"
   ]
  },
  {
   "cell_type": "code",
   "execution_count": 138,
   "metadata": {},
   "outputs": [
    {
     "name": "stdout",
     "output_type": "stream",
     "text": [
      "Neg. RMSE: -1.955\n",
      "Config: {'alpha': 1.8999999999999997}\n"
     ]
    }
   ],
   "source": [
    "# refine search\n",
    "\n",
    "model = Ridge()\n",
    "\n",
    "cv = RepeatedKFold(n_splits=10, n_repeats=3, random_state=1)\n",
    "\n",
    "grid = dict()\n",
    "grid['alpha'] = np.arange(0.5, 5, 0.1)\n",
    "search = GridSearchCV(model, grid, scoring='neg_root_mean_squared_error', cv=cv, n_jobs=-1)\n",
    "\n",
    "results = search.fit(X, y)\n",
    "\n",
    "print('Neg. RMSE: %.3f' % results.best_score_)\n",
    "print('Config: %s' % results.best_params_)"
   ]
  },
  {
   "cell_type": "code",
   "execution_count": 139,
   "metadata": {},
   "outputs": [
    {
     "name": "stdout",
     "output_type": "stream",
     "text": [
      "0.01600956907090545\n"
     ]
    }
   ],
   "source": [
    "# split train and test sets\n",
    "X_train, X_test, y_train, y_test = train_test_split(X_trafo, y, test_size=0.2, random_state=42)\n",
    "\n",
    "# fit model and predict\n",
    "ridge_regr = Ridge(alpha=results.best_score_).fit(X_train, y_train)\n",
    "y_pred = ridge_regr.predict(X_test)\n",
    "\n",
    "print(ridge_regr.score(X_train,y_train))\n",
    "\n",
    "# write the predictions to the submission file\n",
    "\n",
    "weights_df=pd.DataFrame(data=np.transpose(ridge_regr.coef_))\n",
    "weights_df.to_csv('submission.csv',index=False, header=False)"
   ]
  }
 ],
 "metadata": {
  "interpreter": {
   "hash": "7df4d15e59cac213afef75c805c6c35b948ade230879836dc77c436b6318e246"
  },
  "kernelspec": {
   "display_name": "Python 3.7.11 ('intro-ml')",
   "language": "python",
   "name": "python3"
  },
  "language_info": {
   "codemirror_mode": {
    "name": "ipython",
    "version": 3
   },
   "file_extension": ".py",
   "mimetype": "text/x-python",
   "name": "python",
   "nbconvert_exporter": "python",
   "pygments_lexer": "ipython3",
   "version": "3.7.11"
  },
  "orig_nbformat": 4
 },
 "nbformat": 4,
 "nbformat_minor": 2
}
