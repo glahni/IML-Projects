{
 "cells": [
  {
   "cell_type": "code",
   "execution_count": 13,
   "metadata": {},
   "outputs": [],
   "source": [
    "from sklearn.metrics import mean_squared_error\n",
    "import pandas as pd\n",
    "from sklearn.linear_model import RidgeCV, LassoCV, LinearRegression\n",
    "import matplotlib.pyplot as plt\n",
    "import seaborn as sns\n",
    "import numpy as np\n",
    "from sklearn.metrics import mean_squared_error\n",
    "from sklearn.model_selection import train_test_split"
   ]
  },
  {
   "cell_type": "code",
   "execution_count": 3,
   "metadata": {},
   "outputs": [],
   "source": [
    "trainset = pd.read_csv('train.csv')\n",
    "X = trainset.drop(trainset.columns[[0,1]],axis=1)\n",
    "y = pd.DataFrame(trainset['y'])"
   ]
  },
  {
   "cell_type": "code",
   "execution_count": 4,
   "metadata": {},
   "outputs": [
    {
     "data": {
      "text/html": [
       "<div>\n",
       "<style scoped>\n",
       "    .dataframe tbody tr th:only-of-type {\n",
       "        vertical-align: middle;\n",
       "    }\n",
       "\n",
       "    .dataframe tbody tr th {\n",
       "        vertical-align: top;\n",
       "    }\n",
       "\n",
       "    .dataframe thead th {\n",
       "        text-align: right;\n",
       "    }\n",
       "</style>\n",
       "<table border=\"1\" class=\"dataframe\">\n",
       "  <thead>\n",
       "    <tr style=\"text-align: right;\">\n",
       "      <th></th>\n",
       "      <th>x1</th>\n",
       "      <th>x2</th>\n",
       "      <th>x3</th>\n",
       "      <th>x4</th>\n",
       "      <th>x5</th>\n",
       "      <th>x6</th>\n",
       "      <th>x7</th>\n",
       "      <th>x8</th>\n",
       "      <th>x9</th>\n",
       "      <th>x10</th>\n",
       "      <th>...</th>\n",
       "      <th>x12</th>\n",
       "      <th>x13</th>\n",
       "      <th>x14</th>\n",
       "      <th>x15</th>\n",
       "      <th>x16</th>\n",
       "      <th>x17</th>\n",
       "      <th>x18</th>\n",
       "      <th>x19</th>\n",
       "      <th>x20</th>\n",
       "      <th>x21</th>\n",
       "    </tr>\n",
       "  </thead>\n",
       "  <tbody>\n",
       "    <tr>\n",
       "      <th>0</th>\n",
       "      <td>0.02</td>\n",
       "      <td>0.05</td>\n",
       "      <td>-0.09</td>\n",
       "      <td>-0.43</td>\n",
       "      <td>-0.08</td>\n",
       "      <td>0.0004</td>\n",
       "      <td>0.0025</td>\n",
       "      <td>0.0081</td>\n",
       "      <td>0.1849</td>\n",
       "      <td>0.0064</td>\n",
       "      <td>...</td>\n",
       "      <td>1.051271</td>\n",
       "      <td>0.913931</td>\n",
       "      <td>0.650509</td>\n",
       "      <td>0.923116</td>\n",
       "      <td>0.999800</td>\n",
       "      <td>0.998750</td>\n",
       "      <td>0.995953</td>\n",
       "      <td>0.908966</td>\n",
       "      <td>0.996802</td>\n",
       "      <td>1</td>\n",
       "    </tr>\n",
       "    <tr>\n",
       "      <th>1</th>\n",
       "      <td>-0.13</td>\n",
       "      <td>0.11</td>\n",
       "      <td>-0.08</td>\n",
       "      <td>-0.29</td>\n",
       "      <td>-0.03</td>\n",
       "      <td>0.0169</td>\n",
       "      <td>0.0121</td>\n",
       "      <td>0.0064</td>\n",
       "      <td>0.0841</td>\n",
       "      <td>0.0009</td>\n",
       "      <td>...</td>\n",
       "      <td>1.116278</td>\n",
       "      <td>0.923116</td>\n",
       "      <td>0.748264</td>\n",
       "      <td>0.970446</td>\n",
       "      <td>0.991562</td>\n",
       "      <td>0.993956</td>\n",
       "      <td>0.996802</td>\n",
       "      <td>0.958244</td>\n",
       "      <td>0.999550</td>\n",
       "      <td>1</td>\n",
       "    </tr>\n",
       "    <tr>\n",
       "      <th>2</th>\n",
       "      <td>0.08</td>\n",
       "      <td>0.06</td>\n",
       "      <td>-0.07</td>\n",
       "      <td>-0.41</td>\n",
       "      <td>-0.03</td>\n",
       "      <td>0.0064</td>\n",
       "      <td>0.0036</td>\n",
       "      <td>0.0049</td>\n",
       "      <td>0.1681</td>\n",
       "      <td>0.0009</td>\n",
       "      <td>...</td>\n",
       "      <td>1.061837</td>\n",
       "      <td>0.932394</td>\n",
       "      <td>0.663650</td>\n",
       "      <td>0.970446</td>\n",
       "      <td>0.996802</td>\n",
       "      <td>0.998201</td>\n",
       "      <td>0.997551</td>\n",
       "      <td>0.917121</td>\n",
       "      <td>0.999550</td>\n",
       "      <td>1</td>\n",
       "    </tr>\n",
       "    <tr>\n",
       "      <th>3</th>\n",
       "      <td>0.02</td>\n",
       "      <td>-0.12</td>\n",
       "      <td>0.01</td>\n",
       "      <td>-0.43</td>\n",
       "      <td>-0.02</td>\n",
       "      <td>0.0004</td>\n",
       "      <td>0.0144</td>\n",
       "      <td>0.0001</td>\n",
       "      <td>0.1849</td>\n",
       "      <td>0.0004</td>\n",
       "      <td>...</td>\n",
       "      <td>0.886920</td>\n",
       "      <td>1.010050</td>\n",
       "      <td>0.650509</td>\n",
       "      <td>0.980199</td>\n",
       "      <td>0.999800</td>\n",
       "      <td>0.992809</td>\n",
       "      <td>0.999950</td>\n",
       "      <td>0.908966</td>\n",
       "      <td>0.999800</td>\n",
       "      <td>1</td>\n",
       "    </tr>\n",
       "    <tr>\n",
       "      <th>4</th>\n",
       "      <td>-0.14</td>\n",
       "      <td>-0.12</td>\n",
       "      <td>-0.08</td>\n",
       "      <td>-0.02</td>\n",
       "      <td>-0.08</td>\n",
       "      <td>0.0196</td>\n",
       "      <td>0.0144</td>\n",
       "      <td>0.0064</td>\n",
       "      <td>0.0004</td>\n",
       "      <td>0.0064</td>\n",
       "      <td>...</td>\n",
       "      <td>0.886920</td>\n",
       "      <td>0.923116</td>\n",
       "      <td>0.980199</td>\n",
       "      <td>0.923116</td>\n",
       "      <td>0.990216</td>\n",
       "      <td>0.992809</td>\n",
       "      <td>0.996802</td>\n",
       "      <td>0.999800</td>\n",
       "      <td>0.996802</td>\n",
       "      <td>1</td>\n",
       "    </tr>\n",
       "    <tr>\n",
       "      <th>...</th>\n",
       "      <td>...</td>\n",
       "      <td>...</td>\n",
       "      <td>...</td>\n",
       "      <td>...</td>\n",
       "      <td>...</td>\n",
       "      <td>...</td>\n",
       "      <td>...</td>\n",
       "      <td>...</td>\n",
       "      <td>...</td>\n",
       "      <td>...</td>\n",
       "      <td>...</td>\n",
       "      <td>...</td>\n",
       "      <td>...</td>\n",
       "      <td>...</td>\n",
       "      <td>...</td>\n",
       "      <td>...</td>\n",
       "      <td>...</td>\n",
       "      <td>...</td>\n",
       "      <td>...</td>\n",
       "      <td>...</td>\n",
       "      <td>...</td>\n",
       "    </tr>\n",
       "    <tr>\n",
       "      <th>695</th>\n",
       "      <td>0.31</td>\n",
       "      <td>-0.09</td>\n",
       "      <td>0.04</td>\n",
       "      <td>-0.09</td>\n",
       "      <td>0.03</td>\n",
       "      <td>0.0961</td>\n",
       "      <td>0.0081</td>\n",
       "      <td>0.0016</td>\n",
       "      <td>0.0081</td>\n",
       "      <td>0.0009</td>\n",
       "      <td>...</td>\n",
       "      <td>0.913931</td>\n",
       "      <td>1.040811</td>\n",
       "      <td>0.913931</td>\n",
       "      <td>1.030455</td>\n",
       "      <td>0.952334</td>\n",
       "      <td>0.995953</td>\n",
       "      <td>0.999200</td>\n",
       "      <td>0.995953</td>\n",
       "      <td>0.999550</td>\n",
       "      <td>1</td>\n",
       "    </tr>\n",
       "    <tr>\n",
       "      <th>696</th>\n",
       "      <td>-0.26</td>\n",
       "      <td>-0.01</td>\n",
       "      <td>0.02</td>\n",
       "      <td>-0.40</td>\n",
       "      <td>0.05</td>\n",
       "      <td>0.0676</td>\n",
       "      <td>0.0001</td>\n",
       "      <td>0.0004</td>\n",
       "      <td>0.1600</td>\n",
       "      <td>0.0025</td>\n",
       "      <td>...</td>\n",
       "      <td>0.990050</td>\n",
       "      <td>1.020201</td>\n",
       "      <td>0.670320</td>\n",
       "      <td>1.051271</td>\n",
       "      <td>0.966390</td>\n",
       "      <td>0.999950</td>\n",
       "      <td>0.999800</td>\n",
       "      <td>0.921061</td>\n",
       "      <td>0.998750</td>\n",
       "      <td>1</td>\n",
       "    </tr>\n",
       "    <tr>\n",
       "      <th>697</th>\n",
       "      <td>-0.27</td>\n",
       "      <td>-0.22</td>\n",
       "      <td>-0.01</td>\n",
       "      <td>-0.32</td>\n",
       "      <td>-0.05</td>\n",
       "      <td>0.0729</td>\n",
       "      <td>0.0484</td>\n",
       "      <td>0.0001</td>\n",
       "      <td>0.1024</td>\n",
       "      <td>0.0025</td>\n",
       "      <td>...</td>\n",
       "      <td>0.802519</td>\n",
       "      <td>0.990050</td>\n",
       "      <td>0.726149</td>\n",
       "      <td>0.951229</td>\n",
       "      <td>0.963771</td>\n",
       "      <td>0.975897</td>\n",
       "      <td>0.999950</td>\n",
       "      <td>0.949235</td>\n",
       "      <td>0.998750</td>\n",
       "      <td>1</td>\n",
       "    </tr>\n",
       "    <tr>\n",
       "      <th>698</th>\n",
       "      <td>0.19</td>\n",
       "      <td>0.11</td>\n",
       "      <td>-0.05</td>\n",
       "      <td>-0.27</td>\n",
       "      <td>-0.04</td>\n",
       "      <td>0.0361</td>\n",
       "      <td>0.0121</td>\n",
       "      <td>0.0025</td>\n",
       "      <td>0.0729</td>\n",
       "      <td>0.0016</td>\n",
       "      <td>...</td>\n",
       "      <td>1.116278</td>\n",
       "      <td>0.951229</td>\n",
       "      <td>0.763379</td>\n",
       "      <td>0.960789</td>\n",
       "      <td>0.982004</td>\n",
       "      <td>0.993956</td>\n",
       "      <td>0.998750</td>\n",
       "      <td>0.963771</td>\n",
       "      <td>0.999200</td>\n",
       "      <td>1</td>\n",
       "    </tr>\n",
       "    <tr>\n",
       "      <th>699</th>\n",
       "      <td>-0.09</td>\n",
       "      <td>-0.09</td>\n",
       "      <td>-0.06</td>\n",
       "      <td>-0.41</td>\n",
       "      <td>-0.06</td>\n",
       "      <td>0.0081</td>\n",
       "      <td>0.0081</td>\n",
       "      <td>0.0036</td>\n",
       "      <td>0.1681</td>\n",
       "      <td>0.0036</td>\n",
       "      <td>...</td>\n",
       "      <td>0.913931</td>\n",
       "      <td>0.941765</td>\n",
       "      <td>0.663650</td>\n",
       "      <td>0.941765</td>\n",
       "      <td>0.995953</td>\n",
       "      <td>0.995953</td>\n",
       "      <td>0.998201</td>\n",
       "      <td>0.917121</td>\n",
       "      <td>0.998201</td>\n",
       "      <td>1</td>\n",
       "    </tr>\n",
       "  </tbody>\n",
       "</table>\n",
       "<p>700 rows × 21 columns</p>\n",
       "</div>"
      ],
      "text/plain": [
       "       x1    x2    x3    x4    x5      x6      x7      x8      x9     x10  \\\n",
       "0    0.02  0.05 -0.09 -0.43 -0.08  0.0004  0.0025  0.0081  0.1849  0.0064   \n",
       "1   -0.13  0.11 -0.08 -0.29 -0.03  0.0169  0.0121  0.0064  0.0841  0.0009   \n",
       "2    0.08  0.06 -0.07 -0.41 -0.03  0.0064  0.0036  0.0049  0.1681  0.0009   \n",
       "3    0.02 -0.12  0.01 -0.43 -0.02  0.0004  0.0144  0.0001  0.1849  0.0004   \n",
       "4   -0.14 -0.12 -0.08 -0.02 -0.08  0.0196  0.0144  0.0064  0.0004  0.0064   \n",
       "..    ...   ...   ...   ...   ...     ...     ...     ...     ...     ...   \n",
       "695  0.31 -0.09  0.04 -0.09  0.03  0.0961  0.0081  0.0016  0.0081  0.0009   \n",
       "696 -0.26 -0.01  0.02 -0.40  0.05  0.0676  0.0001  0.0004  0.1600  0.0025   \n",
       "697 -0.27 -0.22 -0.01 -0.32 -0.05  0.0729  0.0484  0.0001  0.1024  0.0025   \n",
       "698  0.19  0.11 -0.05 -0.27 -0.04  0.0361  0.0121  0.0025  0.0729  0.0016   \n",
       "699 -0.09 -0.09 -0.06 -0.41 -0.06  0.0081  0.0081  0.0036  0.1681  0.0036   \n",
       "\n",
       "     ...       x12       x13       x14       x15       x16       x17  \\\n",
       "0    ...  1.051271  0.913931  0.650509  0.923116  0.999800  0.998750   \n",
       "1    ...  1.116278  0.923116  0.748264  0.970446  0.991562  0.993956   \n",
       "2    ...  1.061837  0.932394  0.663650  0.970446  0.996802  0.998201   \n",
       "3    ...  0.886920  1.010050  0.650509  0.980199  0.999800  0.992809   \n",
       "4    ...  0.886920  0.923116  0.980199  0.923116  0.990216  0.992809   \n",
       "..   ...       ...       ...       ...       ...       ...       ...   \n",
       "695  ...  0.913931  1.040811  0.913931  1.030455  0.952334  0.995953   \n",
       "696  ...  0.990050  1.020201  0.670320  1.051271  0.966390  0.999950   \n",
       "697  ...  0.802519  0.990050  0.726149  0.951229  0.963771  0.975897   \n",
       "698  ...  1.116278  0.951229  0.763379  0.960789  0.982004  0.993956   \n",
       "699  ...  0.913931  0.941765  0.663650  0.941765  0.995953  0.995953   \n",
       "\n",
       "          x18       x19       x20  x21  \n",
       "0    0.995953  0.908966  0.996802    1  \n",
       "1    0.996802  0.958244  0.999550    1  \n",
       "2    0.997551  0.917121  0.999550    1  \n",
       "3    0.999950  0.908966  0.999800    1  \n",
       "4    0.996802  0.999800  0.996802    1  \n",
       "..        ...       ...       ...  ...  \n",
       "695  0.999200  0.995953  0.999550    1  \n",
       "696  0.999800  0.921061  0.998750    1  \n",
       "697  0.999950  0.949235  0.998750    1  \n",
       "698  0.998750  0.963771  0.999200    1  \n",
       "699  0.998201  0.917121  0.998201    1  \n",
       "\n",
       "[700 rows x 21 columns]"
      ]
     },
     "metadata": {},
     "output_type": "display_data"
    }
   ],
   "source": [
    "#feature transformation\n",
    "#quadratic x6-x10\n",
    "X_squared = X**2\n",
    "X_squared.columns=['x6', 'x7','x8', 'x9', 'x10']\n",
    "X_trafo = pd.concat([X, X_squared],axis=1)\n",
    "\n",
    "#exponential x11-x15\n",
    "X_exp = np.exp(X)\n",
    "X_exp.columns=['x11', 'x12','x13', 'x14', 'x15']\n",
    "X_trafo = pd.concat([X_trafo, X_exp],axis=1)\n",
    "\n",
    "#cosine x16-x20\n",
    "X_cos = np.cos(X)\n",
    "X_cos.columns=['x16', 'x17','x18', 'x19', 'x20']\n",
    "X_trafo = pd.concat([X_trafo, X_cos],axis=1)\n",
    "\n",
    "#constant x21\n",
    "X_trafo['x21'] = np.ones_like(700)\n",
    "\n",
    "X_train, X_test, y_train, y_test = train_test_split(\n",
    "    X_trafo, y, test_size=0.2, random_state=0)\n",
    "\n",
    "display(X_trafo)"
   ]
  },
  {
   "cell_type": "markdown",
   "metadata": {},
   "source": [
    "# LassoCV\n",
    "\n",
    "Problem here is that, according to the warning, the model doesn't converge"
   ]
  },
  {
   "cell_type": "code",
   "execution_count": 37,
   "metadata": {},
   "outputs": [
    {
     "name": "stderr",
     "output_type": "stream",
     "text": [
      "C:\\Users\\jonat\\miniconda3\\envs\\intro-ml\\lib\\site-packages\\sklearn\\linear_model\\_coordinate_descent.py:644: ConvergenceWarning: Objective did not converge. You might want to increase the number of iterations. Duality gap: 0.2046239213482295, tolerance: 0.19612122323263595\n",
      "  positive,\n",
      "C:\\Users\\jonat\\miniconda3\\envs\\intro-ml\\lib\\site-packages\\sklearn\\linear_model\\_coordinate_descent.py:644: ConvergenceWarning: Objective did not converge. You might want to increase the number of iterations. Duality gap: 0.3795645638604128, tolerance: 0.19612122323263595\n",
      "  positive,\n",
      "C:\\Users\\jonat\\miniconda3\\envs\\intro-ml\\lib\\site-packages\\sklearn\\linear_model\\_coordinate_descent.py:644: ConvergenceWarning: Objective did not converge. You might want to increase the number of iterations. Duality gap: 0.2884401463827544, tolerance: 0.2019357583598305\n",
      "  positive,\n",
      "C:\\Users\\jonat\\miniconda3\\envs\\intro-ml\\lib\\site-packages\\sklearn\\linear_model\\_coordinate_descent.py:644: ConvergenceWarning: Objective did not converge. You might want to increase the number of iterations. Duality gap: 0.3493764727322741, tolerance: 0.2019357583598305\n",
      "  positive,\n",
      "C:\\Users\\jonat\\miniconda3\\envs\\intro-ml\\lib\\site-packages\\sklearn\\linear_model\\_coordinate_descent.py:644: ConvergenceWarning: Objective did not converge. You might want to increase the number of iterations. Duality gap: 0.3545133383713619, tolerance: 0.2019357583598305\n",
      "  positive,\n",
      "C:\\Users\\jonat\\miniconda3\\envs\\intro-ml\\lib\\site-packages\\sklearn\\linear_model\\_coordinate_descent.py:644: ConvergenceWarning: Objective did not converge. You might want to increase the number of iterations. Duality gap: 0.3569445533646558, tolerance: 0.2019357583598305\n",
      "  positive,\n",
      "C:\\Users\\jonat\\miniconda3\\envs\\intro-ml\\lib\\site-packages\\sklearn\\linear_model\\_coordinate_descent.py:644: ConvergenceWarning: Objective did not converge. You might want to increase the number of iterations. Duality gap: 0.35864051356793425, tolerance: 0.2019357583598305\n",
      "  positive,\n"
     ]
    }
   ],
   "source": [
    "reg = LassoCV(cv=10, random_state=0, max_iter=100000).fit(X_train, np.ravel(y_train))\n",
    "\n",
    "y_pred = reg.predict(X_test)"
   ]
  },
  {
   "cell_type": "code",
   "execution_count": 40,
   "metadata": {},
   "outputs": [
    {
     "data": {
      "text/plain": [
       "1.8770169949619957"
      ]
     },
     "metadata": {},
     "output_type": "display_data"
    }
   ],
   "source": [
    "display(mean_squared_error(y_test,y_pred)**0.5)"
   ]
  },
  {
   "cell_type": "code",
   "execution_count": 47,
   "metadata": {},
   "outputs": [
    {
     "data": {
      "text/plain": [
       "array([-0.       , -1.1358922, -1.2648585, -0.       , -0.       ,\n",
       "       -0.       ,  0.       ,  0.       ,  0.       ,  0.       ,\n",
       "       -0.       , -0.       , -0.       , -0.       , -0.       ,\n",
       "        0.       , -0.       , -0.       , -0.       , -0.       ,\n",
       "        0.       ])"
      ]
     },
     "execution_count": 47,
     "metadata": {},
     "output_type": "execute_result"
    }
   ],
   "source": [
    "reg.coef_"
   ]
  },
  {
   "cell_type": "markdown",
   "metadata": {},
   "source": [
    "# Linear Regression and manual coef choice"
   ]
  },
  {
   "cell_type": "code",
   "execution_count": 19,
   "metadata": {},
   "outputs": [
    {
     "name": "stdout",
     "output_type": "stream",
     "text": [
      "Feature: 0, Score: 119.478776\n",
      "Feature: 1, Score: -57.189302\n",
      "Feature: 2, Score: 146.408974\n",
      "Feature: 3, Score: 161.753780\n",
      "Feature: 4, Score: -264.025231\n",
      "Feature: 5, Score: 181.138807\n",
      "Feature: 6, Score: -386.600239\n",
      "Feature: 7, Score: -3319.088478\n",
      "Feature: 8, Score: -537.730898\n",
      "Feature: 9, Score: 815.290956\n",
      "Feature: 10, Score: -118.365723\n",
      "Feature: 11, Score: 55.355067\n",
      "Feature: 12, Score: -147.347633\n",
      "Feature: 13, Score: -158.918740\n",
      "Feature: 14, Score: 264.409721\n",
      "Feature: 15, Score: 253.837905\n",
      "Feature: 16, Score: -731.325953\n",
      "Feature: 17, Score: -6822.235697\n",
      "Feature: 18, Score: -1245.222403\n",
      "Feature: 19, Score: 1885.395174\n",
      "Feature: 20, Score: 0.000000\n"
     ]
    },
    {
     "data": {
      "text/plain": [
       "<BarContainer object of 21 artists>"
      ]
     },
     "execution_count": 19,
     "metadata": {},
     "output_type": "execute_result"
    },
    {
     "data": {
      "image/png": "[encoded data removed]",
      "text/plain": [
       "<Figure size 432x288 with 1 Axes>"
      ]
     },
     "metadata": {
      "needs_background": "light"
     },
     "output_type": "display_data"
    }
   ],
   "source": [
    "linreg = LinearRegression().fit(X_train, np.ravel(y_train))\n",
    "importance = linreg.coef_\n",
    "for i,v in enumerate(importance):\n",
    "    print('Feature: %0d, Score: %f' % (i,v))\n",
    "\n",
    "pyplot.bar([x for x in range(len(importance))], importance)"
   ]
  },
  {
   "cell_type": "code",
   "execution_count": 26,
   "metadata": {},
   "outputs": [],
   "source": [
    "def predict_manual(X):\n",
    "    y = pd.DataFrame()\n",
    "    parameters = [0,0,0,0,0,-386.600239,-3319.088478,-537.730898,815.290956,0,0,0,0,0,0,-731.325953,-6822.235697,-1245.222403, 1885.395174,0]\n",
    "    intercept = 6757.97012211905\n",
    "    y['y'] = intercept + X['x1'] * parameters[0] + X['x2'] * parameters[1] + X['x3'] * parameters[2] + X['x4'] * parameters[3] + X['x5'] * parameters[4] + X['x6'] * parameters[5] + X['x7'] * parameters[6] + X['x8'] * parameters[7] + X['x9'] * parameters[8] + X['x10'] * parameters[9] + X['x11'] * parameters[10] + X['x12'] * parameters[11] + X['x13'] * parameters[12] + X['x14'] * parameters[13] + X['x15'] * parameters[14] + X['x16'] * parameters[15] + X['x17'] * parameters[16] + X['x18'] * parameters[17] + X['x19'] * parameters[18] + X['x20'] * parameters[19]\n",
    "    #y['Id'] = X['Id']\n",
    "    return y"
   ]
  },
  {
   "cell_type": "code",
   "execution_count": 30,
   "metadata": {},
   "outputs": [],
   "source": [
    "y_pred_manual  = predict_manual(X_test)\n",
    "y_pred = linreg.predict(X_test)"
   ]
  },
  {
   "cell_type": "code",
   "execution_count": 31,
   "metadata": {},
   "outputs": [
    {
     "data": {
      "text/plain": [
       "1.8913139862310253"
      ]
     },
     "metadata": {},
     "output_type": "display_data"
    }
   ],
   "source": [
    "display(mean_squared_error(y_test,y_pred)**0.5)"
   ]
  },
  {
   "cell_type": "code",
   "execution_count": null,
   "metadata": {},
   "outputs": [],
   "source": [
    "sns.pairplot(X_trafo, kind='scatter')"
   ]
  },
  {
   "cell_type": "markdown",
   "metadata": {},
   "source": [
    "# XGBoost"
   ]
  },
  {
   "cell_type": "code",
   "execution_count": 43,
   "metadata": {},
   "outputs": [
    {
     "name": "stdout",
     "output_type": "stream",
     "text": [
      "Feature: 0, Score: 0.065505\n",
      "Feature: 1, Score: 0.084330\n",
      "Feature: 2, Score: 0.090857\n",
      "Feature: 3, Score: 0.083899\n",
      "Feature: 4, Score: 0.084788\n",
      "Feature: 5, Score: 0.105299\n",
      "Feature: 6, Score: 0.088361\n",
      "Feature: 7, Score: 0.107560\n",
      "Feature: 8, Score: 0.136868\n",
      "Feature: 9, Score: 0.152532\n",
      "Feature: 10, Score: 0.000000\n",
      "Feature: 11, Score: 0.000000\n",
      "Feature: 12, Score: 0.000000\n",
      "Feature: 13, Score: 0.000000\n",
      "Feature: 14, Score: 0.000000\n",
      "Feature: 15, Score: 0.000000\n",
      "Feature: 16, Score: 0.000000\n",
      "Feature: 17, Score: 0.000000\n",
      "Feature: 18, Score: 0.000000\n",
      "Feature: 19, Score: 0.000000\n",
      "Feature: 20, Score: 0.000000\n"
     ]
    },
    {
     "data": {
      "text/plain": [
       "<BarContainer object of 21 artists>"
      ]
     },
     "execution_count": 43,
     "metadata": {},
     "output_type": "execute_result"
    },
    {
     "data": {
      "image/png": "[encoded data removed]",
      "text/plain": [
       "<Figure size 432x288 with 1 Axes>"
      ]
     },
     "metadata": {
      "needs_background": "light"
     },
     "output_type": "display_data"
    }
   ],
   "source": [
    "from xgboost import XGBRegressor\n",
    "from matplotlib import pyplot\n",
    "\n",
    "xgb = XGBRegressor()\n",
    "xgb.fit(X_train, np.ravel(y_train))\n",
    "importance = model.feature_importances_\n",
    "for i,v in enumerate(importance):\n",
    "    print('Feature: %0d, Score: %f' % (i,v))\n",
    "\n",
    "pyplot.bar([x for x in range(len(importance))], importance)"
   ]
  },
  {
   "cell_type": "code",
   "execution_count": 44,
   "metadata": {},
   "outputs": [
    {
     "data": {
      "text/plain": [
       "2.296221283891243"
      ]
     },
     "metadata": {},
     "output_type": "display_data"
    }
   ],
   "source": [
    "y_pred_xgb = xgb.predict(X_test)\n",
    "display(mean_squared_error(y_test,y_pred_xgb)**0.5)"
   ]
  },
  {
   "cell_type": "markdown",
   "metadata": {},
   "source": [
    "# Decision Tree Regressor"
   ]
  },
  {
   "cell_type": "code",
   "execution_count": 45,
   "metadata": {},
   "outputs": [
    {
     "name": "stdout",
     "output_type": "stream",
     "text": [
      "Feature: 0, Score: 0.065505\n",
      "Feature: 1, Score: 0.084330\n",
      "Feature: 2, Score: 0.090857\n",
      "Feature: 3, Score: 0.083899\n",
      "Feature: 4, Score: 0.084788\n",
      "Feature: 5, Score: 0.105299\n",
      "Feature: 6, Score: 0.088361\n",
      "Feature: 7, Score: 0.107560\n",
      "Feature: 8, Score: 0.136868\n",
      "Feature: 9, Score: 0.152532\n",
      "Feature: 10, Score: 0.000000\n",
      "Feature: 11, Score: 0.000000\n",
      "Feature: 12, Score: 0.000000\n",
      "Feature: 13, Score: 0.000000\n",
      "Feature: 14, Score: 0.000000\n",
      "Feature: 15, Score: 0.000000\n",
      "Feature: 16, Score: 0.000000\n",
      "Feature: 17, Score: 0.000000\n",
      "Feature: 18, Score: 0.000000\n",
      "Feature: 19, Score: 0.000000\n",
      "Feature: 20, Score: 0.000000\n"
     ]
    },
    {
     "data": {
      "text/plain": [
       "<BarContainer object of 21 artists>"
      ]
     },
     "execution_count": 45,
     "metadata": {},
     "output_type": "execute_result"
    },
    {
     "data": {
      "image/png": "[encoded data removed]",
      "text/plain": [
       "<Figure size 432x288 with 1 Axes>"
      ]
     },
     "metadata": {
      "needs_background": "light"
     },
     "output_type": "display_data"
    }
   ],
   "source": [
    "from sklearn.tree import DecisionTreeRegressor\n",
    "\n",
    "tree = DecisionTreeRegressor()\n",
    "tree.fit(X_train, np.ravel(y_train))\n",
    "importance = model.feature_importances_\n",
    "for i,v in enumerate(importance):\n",
    "    print('Feature: %0d, Score: %f' % (i,v))\n",
    "pyplot.bar([x for x in range(len(importance))], importance)"
   ]
  },
  {
   "cell_type": "code",
   "execution_count": 46,
   "metadata": {},
   "outputs": [
    {
     "data": {
      "text/plain": [
       "2.877376552619261"
      ]
     },
     "metadata": {},
     "output_type": "display_data"
    }
   ],
   "source": [
    "display(mean_squared_error(y_test,tree.predict(X_test))**0.5)"
   ]
  }
 ],
 "metadata": {
  "interpreter": {
   "hash": "a7bf333cef6c42b7677acd20465dba9b1b24400d560046f4de2df062e6949c1c"
  },
  "kernelspec": {
   "display_name": "Python 3.7.11 ('intro-ml')",
   "language": "python",
   "name": "python3"
  },
  "language_info": {
   "codemirror_mode": {
    "name": "ipython",
    "version": 3
   },
   "file_extension": ".py",
   "mimetype": "text/x-python",
   "name": "python",
   "nbconvert_exporter": "python",
   "pygments_lexer": "ipython3",
   "version": "3.7.11"
  },
  "orig_nbformat": 4
 },
 "nbformat": 4,
 "nbformat_minor": 2
}
