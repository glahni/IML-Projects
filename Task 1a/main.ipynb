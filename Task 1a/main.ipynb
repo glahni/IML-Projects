{
 "cells": [
  {
   "cell_type": "code",
   "execution_count": 4,
   "metadata": {},
   "outputs": [],
   "source": [
    "# import relevant libraries\n",
    "import numpy as np\n",
    "import pandas as pd\n",
    "from sklearn.linear_model import LinearRegression, Ridge, RidgeCV\n",
    "from sklearn.model_selection import train_test_split, cross_val_score, GridSearchCV, KFold\n",
    "from sklearn.metrics import mean_squared_error\n",
    "import matplotlib.pyplot as plt"
   ]
  },
  {
   "cell_type": "code",
   "execution_count": 5,
   "metadata": {},
   "outputs": [],
   "source": [
    "# load data\n",
    "df_train = pd.read_csv('train.csv')\n",
    "X = df_train.drop(df_train.columns[[0,1]],axis=1)\n",
    "y = pd.DataFrame(df_train['y'])"
   ]
  },
  {
   "cell_type": "code",
   "execution_count": 6,
   "metadata": {},
   "outputs": [
    {
     "name": "stdout",
     "output_type": "stream",
     "text": [
      "Average accuracy: 5.469305823087125\n",
      "Average accuracy: 5.4463767034995065\n",
      "Average accuracy: 5.427322371522707\n",
      "Average accuracy: 5.580393994301\n",
      "Average accuracy: 5.657963773496207\n"
     ]
    }
   ],
   "source": [
    "lambdas = [0.1, 1, 10, 100, 200]\n",
    "avg_acc = np.zeros(5)\n",
    "\n",
    "for i in range(5):\n",
    "\n",
    "    kf = KFold(n_splits=10, random_state=1, shuffle=True)\n",
    "    \n",
    "    model = Ridge(alpha=[lambdas[i]])\n",
    "\n",
    "    result = cross_val_score(model , X, y, scoring='neg_root_mean_squared_error', cv = kf)\n",
    "    result = np.absolute(result)\n",
    "    avg_acc[i] = np.mean(result)\n",
    "    print(\"Average accuracy: {}\".format(result.mean()))\n",
    "\n",
    "RMSE = pd.DataFrame(avg_acc)\n",
    "RMSE.to_csv('submission.csv', index=False, header= None)"
   ]
  }
 ],
 "metadata": {
  "interpreter": {
   "hash": "7df4d15e59cac213afef75c805c6c35b948ade230879836dc77c436b6318e246"
  },
  "kernelspec": {
   "display_name": "Python 3.7.11 ('intro-ml')",
   "language": "python",
   "name": "python3"
  },
  "language_info": {
   "codemirror_mode": {
    "name": "ipython",
    "version": 3
   },
   "file_extension": ".py",
   "mimetype": "text/x-python",
   "name": "python",
   "nbconvert_exporter": "python",
   "pygments_lexer": "ipython3",
   "version": "3.7.11"
  },
  "orig_nbformat": 4
 },
 "nbformat": 4,
 "nbformat_minor": 2
}
