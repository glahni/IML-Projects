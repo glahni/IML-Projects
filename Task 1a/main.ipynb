{
 "cells": [
  {
   "cell_type": "code",
   "execution_count": 61,
   "metadata": {},
   "outputs": [],
   "source": [
    "# import relevant libraries\n",
    "import numpy as np\n",
    "import pandas as pd\n",
    "from sklearn.linear_model import LinearRegression, Ridge, RidgeCV\n",
    "from sklearn.model_selection import train_test_split, cross_val_score, GridSearchCV, KFold\n",
    "from sklearn.metrics import mean_squared_error\n",
    "import matplotlib.pyplot as plt"
   ]
  },
  {
   "cell_type": "code",
   "execution_count": 62,
   "metadata": {},
   "outputs": [],
   "source": [
    "# load data\n",
    "df_train = pd.read_csv('train.csv')\n",
    "X = df_train.drop(df_train.columns[[0,1]],axis=1)\n",
    "y = pd.DataFrame(df_train['y'])\n",
    "\n",
    "# split test and train sets\n",
    "X_train, X_test, y_train, y_test = train_test_split(X, y, test_size=0.2, random_state=0)"
   ]
  },
  {
   "cell_type": "code",
   "execution_count": 63,
   "metadata": {},
   "outputs": [
    {
     "name": "stdout",
     "output_type": "stream",
     "text": [
      "Average accuracy: 5.508999049735047\n",
      "Average accuracy: 5.503669937982474\n",
      "Average accuracy: 5.487752162256078\n",
      "Average accuracy: 5.649303936685504\n",
      "Average accuracy: 5.736684744637191\n"
     ]
    }
   ],
   "source": [
    "lambdas = [0.1, 1, 10, 100, 200]\n",
    "avg_acc = np.zeros(5)\n",
    "\n",
    "for i in range(5):\n",
    "\n",
    "    kf = KFold(n_splits=10, random_state=None, shuffle=False)\n",
    "    \n",
    "    model = Ridge(alpha=[lambdas[i]])\n",
    "\n",
    "    result = cross_val_score(model , X, y, scoring='neg_root_mean_squared_error', cv = kf)\n",
    "    result = np.absolute(result)\n",
    "    avg_acc[i] = np.mean(result)\n",
    "    print(\"Average accuracy: {}\".format(result.mean()))\n",
    "\n",
    "RMSE = pd.DataFrame(avg_acc)\n",
    "RMSE.to_csv('submission.csv', index=False, header= None)"
   ]
  },
  {
   "cell_type": "code",
   "execution_count": 64,
   "metadata": {},
   "outputs": [],
   "source": [
    "# lambdas = [0.1, 1, 10, 100, 200]\n",
    "# RMSE = []\n",
    "\n",
    "# for i in range(5):\n",
    "#     ridge = RidgeCV(alphas=[lambdas[i]], cv=10).fit(X, y)\n",
    "#     y_pred = ridge.predict(X)\n",
    "#     RMSE.append(mean_squared_error(y, y_pred)**0.5)\n",
    "#     # print(cross_val_score(ridge, X, y, cv=10))\n",
    "# pd.DataFrame(RMSE).to_csv('submission.csv',index=False,header=False)\n",
    "\n",
    "# for k in range(10):\n",
    "        # train model on fold k\n",
    "        # compute cross-validation error and store it in an array\n",
    "        # pick model with lowest cv error\n",
    "        # compute final model\n",
    "        # evaluate model with test set\n"
   ]
  }
 ],
 "metadata": {
  "interpreter": {
   "hash": "7df4d15e59cac213afef75c805c6c35b948ade230879836dc77c436b6318e246"
  },
  "kernelspec": {
   "display_name": "Python 3.7.11 ('intro-ml')",
   "language": "python",
   "name": "python3"
  },
  "language_info": {
   "codemirror_mode": {
    "name": "ipython",
    "version": 3
   },
   "file_extension": ".py",
   "mimetype": "text/x-python",
   "name": "python",
   "nbconvert_exporter": "python",
   "pygments_lexer": "ipython3",
   "version": "3.7.11"
  },
  "orig_nbformat": 4
 },
 "nbformat": 4,
 "nbformat_minor": 2
}
