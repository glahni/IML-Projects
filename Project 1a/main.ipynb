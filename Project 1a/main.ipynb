{
 "cells": [
  {
   "cell_type": "code",
   "execution_count": 1,
   "metadata": {},
   "outputs": [],
   "source": [
    "from sklearn.metrics import mean_squared_error\n",
    "import pandas as pd\n",
    "from sklearn.linear_model import RidgeCV\n",
    "import matplotlib.pyplot as plt\n",
    "import seaborn as sns"
   ]
  },
  {
   "cell_type": "code",
   "execution_count": 20,
   "metadata": {},
   "outputs": [],
   "source": [
    "trainset = pd.read_csv('train.csv')\n",
    "X = trainset.drop(trainset.columns[[0,1]],axis=1)\n",
    "y = pd.DataFrame(trainset['y'])\n",
    "\n",
    "alphas = [0.1,1,10,100,200]\n",
    "RMSE = []\n",
    "for alpha in alphas:\n",
    "    ridge = RidgeCV(alphas=[alpha],cv=10).fit(X,y)\n",
    "    y_pred = ridge.predict(X)\n",
    "    RMSE.append(mean_squared_error(y,y_pred)**0.5)\n",
    "pd.DataFrame(RMSE).to_csv('submission.csv',index=False,header=False)"
   ]
  }
 ],
 "metadata": {
  "interpreter": {
   "hash": "a7bf333cef6c42b7677acd20465dba9b1b24400d560046f4de2df062e6949c1c"
  },
  "kernelspec": {
   "display_name": "Python 3.7.11 ('intro-ml')",
   "language": "python",
   "name": "python3"
  },
  "language_info": {
   "codemirror_mode": {
    "name": "ipython",
    "version": 3
   },
   "file_extension": ".py",
   "mimetype": "text/x-python",
   "name": "python",
   "nbconvert_exporter": "python",
   "pygments_lexer": "ipython3",
   "version": "3.7.11"
  },
  "orig_nbformat": 4
 },
 "nbformat": 4,
 "nbformat_minor": 2
}
